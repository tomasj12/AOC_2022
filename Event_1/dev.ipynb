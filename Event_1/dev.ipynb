{
 "cells": [
  {
   "cell_type": "code",
   "execution_count": 5,
   "metadata": {},
   "outputs": [],
   "source": [
    "class Test:\n",
    "\n",
    "    def __init__(self,a):\n",
    "        self.a = a\n",
    "\n",
    "class Test_(Test):\n",
    "\n",
    "    def __init__(self,a):\n",
    "        super().__init__(a)"
   ]
  },
  {
   "cell_type": "code",
   "execution_count": 1,
   "metadata": {},
   "outputs": [],
   "source": [
    "with open('/home/tomas/Personal_projects/AOC_2022/Event_1/data/test_input.txt','r') as file:\n",
    "    res = file.readlines()"
   ]
  },
  {
   "cell_type": "code",
   "execution_count": 2,
   "metadata": {},
   "outputs": [
    {
     "data": {
      "text/plain": [
       "['1000\\n',\n",
       " '2000\\n',\n",
       " '3000\\n',\n",
       " '\\n',\n",
       " '4000\\n',\n",
       " '\\n',\n",
       " '5000\\n',\n",
       " '6000\\n',\n",
       " '\\n',\n",
       " '7000\\n',\n",
       " '8000\\n',\n",
       " '9000\\n',\n",
       " '\\n',\n",
       " '10000']"
      ]
     },
     "execution_count": 2,
     "metadata": {},
     "output_type": "execute_result"
    }
   ],
   "source": [
    "res"
   ]
  }
 ],
 "metadata": {
  "kernelspec": {
   "display_name": "Python 3.8.10 64-bit",
   "language": "python",
   "name": "python3"
  },
  "language_info": {
   "codemirror_mode": {
    "name": "ipython",
    "version": 3
   },
   "file_extension": ".py",
   "mimetype": "text/x-python",
   "name": "python",
   "nbconvert_exporter": "python",
   "pygments_lexer": "ipython3",
   "version": "3.8.10"
  },
  "orig_nbformat": 4,
  "vscode": {
   "interpreter": {
    "hash": "df0893f56f349688326838aaeea0de204df53a132722cbd565e54b24a8fec5f6"
   }
  }
 },
 "nbformat": 4,
 "nbformat_minor": 2
}
